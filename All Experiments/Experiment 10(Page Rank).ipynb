{
 "cells": [
  {
   "cell_type": "markdown",
   "id": "ea685c80",
   "metadata": {},
   "source": [
    "### Implementing Google page rank Algorithms"
   ]
  },
  {
   "cell_type": "markdown",
   "id": "dae9c5ff",
   "metadata": {},
   "source": [
    "###### google page rank algorithms not publically disclose page rank algorithms on of the part of original page rank algoeithms"
   ]
  },
  {
   "cell_type": "code",
   "execution_count": 2,
   "id": "050a4e7b",
   "metadata": {},
   "outputs": [],
   "source": [
    "# importing neccesary librreis\n",
    "import numpy as np\n",
    "import pandas as pd\n",
    "import matplotlib.pyplot as plt\n",
    "import seaborn as sns\n",
    "%matplotlib inline"
   ]
  },
  {
   "cell_type": "code",
   "execution_count": 3,
   "id": "74acbdf0",
   "metadata": {},
   "outputs": [],
   "source": [
    "# vanilla page rank algorithms\n",
    "\n",
    "dic = {\n",
    "    \"A\":[0,1,1,1],\n",
    "    \"B\":[0,1,0,1],\n",
    "    \"C\":[1,0,1,1],\n",
    "    \"D\":[0,1,1,1]\n",
    "}\n",
    "Adjuscent_matrix = pd.DataFrame(dic, index = [\"A\", \"B\", \"C\", \"D\"])"
   ]
  },
  {
   "cell_type": "code",
   "execution_count": 4,
   "id": "cfe5b16b",
   "metadata": {},
   "outputs": [
    {
     "data": {
      "text/html": [
       "<div>\n",
       "<style scoped>\n",
       "    .dataframe tbody tr th:only-of-type {\n",
       "        vertical-align: middle;\n",
       "    }\n",
       "\n",
       "    .dataframe tbody tr th {\n",
       "        vertical-align: top;\n",
       "    }\n",
       "\n",
       "    .dataframe thead th {\n",
       "        text-align: right;\n",
       "    }\n",
       "</style>\n",
       "<table border=\"1\" class=\"dataframe\">\n",
       "  <thead>\n",
       "    <tr style=\"text-align: right;\">\n",
       "      <th></th>\n",
       "      <th>A</th>\n",
       "      <th>B</th>\n",
       "      <th>C</th>\n",
       "      <th>D</th>\n",
       "    </tr>\n",
       "  </thead>\n",
       "  <tbody>\n",
       "    <tr>\n",
       "      <th>A</th>\n",
       "      <td>0</td>\n",
       "      <td>0</td>\n",
       "      <td>1</td>\n",
       "      <td>0</td>\n",
       "    </tr>\n",
       "    <tr>\n",
       "      <th>B</th>\n",
       "      <td>1</td>\n",
       "      <td>1</td>\n",
       "      <td>0</td>\n",
       "      <td>1</td>\n",
       "    </tr>\n",
       "    <tr>\n",
       "      <th>C</th>\n",
       "      <td>1</td>\n",
       "      <td>0</td>\n",
       "      <td>1</td>\n",
       "      <td>1</td>\n",
       "    </tr>\n",
       "    <tr>\n",
       "      <th>D</th>\n",
       "      <td>1</td>\n",
       "      <td>1</td>\n",
       "      <td>1</td>\n",
       "      <td>1</td>\n",
       "    </tr>\n",
       "  </tbody>\n",
       "</table>\n",
       "</div>"
      ],
      "text/plain": [
       "   A  B  C  D\n",
       "A  0  0  1  0\n",
       "B  1  1  0  1\n",
       "C  1  0  1  1\n",
       "D  1  1  1  1"
      ]
     },
     "execution_count": 4,
     "metadata": {},
     "output_type": "execute_result"
    }
   ],
   "source": [
    "Adjuscent_matrix"
   ]
  },
  {
   "cell_type": "code",
   "execution_count": 5,
   "id": "10ea58c4",
   "metadata": {},
   "outputs": [],
   "source": [
    "# Adjuscent_matrix = Adjuscent_matrix.values\n",
    "# transition_matrix = []\n",
    "# for i in range(len(Adjuscent_matrix)):\n",
    "#     if Adjuscent_matrix[:,i].sum()>0:\n",
    "#         transition_matrix.append(Adjuscent_matrix[:,i]/Adjuscent_matrix[:,i].sum())\n",
    "#     else:\n",
    "#         transition_matrix.append(Adjuscent_matrix[:,i])\n",
    "# transition_matrix = np.array(transition_matrix).T\n",
    "# transition_matrix"
   ]
  },
  {
   "cell_type": "code",
   "execution_count": 6,
   "id": "f15d8b6d",
   "metadata": {},
   "outputs": [],
   "source": [
    "def page_rank(Adjuscent_matrix_df):\n",
    "    Adjuscent_matrix = Adjuscent_matrix_df.values\n",
    "    \n",
    "    transition_matrix = np.where(\n",
    "        Adjuscent_matrix.sum(axis = 0), Adjuscent_matrix/Adjuscent_matrix.sum(axis = 0), Adjuscent_matrix\n",
    "    )\n",
    "    \n",
    "    rank_vector = np.ones(transition_matrix.shape[0])/transition_matrix.shape[0]\n",
    "    rank_vector = rank_vector.reshape(rank_vector.shape[0],1)\n",
    "    \n",
    "    r_new = rank_vector\n",
    "    \n",
    "    i = 0\n",
    "    while True:\n",
    "        r_new = np.dot(transition_matrix,rank_vector)\n",
    "        if np.linalg.norm(r_new- rank_vector, 1)==0:\n",
    "            break\n",
    "        rank_vector = r_new\n",
    "        \n",
    "        if i>500:\n",
    "            break\n",
    "    lis = list(Adjuscent_matrix_df.to_dict().keys())\n",
    "    \n",
    "    rank_dic = {lis[i] : j for i, j in enumerate(list(rank_vector))}\n",
    "    \n",
    "    return {i:list(j)[0] for i,j in sorted(rank_dic.items(), key = lambda x:x[1], reverse = True)}\n",
    "    "
   ]
  },
  {
   "cell_type": "code",
   "execution_count": 7,
   "id": "692e48c2",
   "metadata": {},
   "outputs": [
    {
     "data": {
      "text/plain": [
       "{'D': 0.3846153846153842,\n",
       " 'B': 0.3076923076923074,\n",
       " 'C': 0.2307692307692305,\n",
       " 'A': 0.07692307692307683}"
      ]
     },
     "execution_count": 7,
     "metadata": {},
     "output_type": "execute_result"
    }
   ],
   "source": [
    "page_rank(Adjuscent_matrix)"
   ]
  },
  {
   "cell_type": "code",
   "execution_count": null,
   "id": "4d5feaad",
   "metadata": {},
   "outputs": [],
   "source": []
  },
  {
   "cell_type": "code",
   "execution_count": 8,
   "id": "005d64cc",
   "metadata": {},
   "outputs": [],
   "source": [
    "def page_rank(Adjuscent_matrix_df):\n",
    "    Adjuscent_matrix = Adjuscent_matrix_df.values\n",
    "    \n",
    "#     transition matrix\n",
    "    transition_matrix = np.where(\n",
    "    Adjuscent_matrix.sum(axis=0) > 0,\n",
    "    Adjuscent_matrix / Adjuscent_matrix.sum(axis=0),\n",
    "    Adjuscent_matrix\n",
    "    )\n",
    "    \n",
    "#     rank vector\n",
    "    rank_vector = np.ones(transition_matrix.shape[0])/transition_matrix.shape[0]\n",
    "    rank_vector = rank_vector.reshape(rank_vector.shape[0],1)\n",
    "    r_new = rank_vector\n",
    "    \n",
    "    i = 0\n",
    "    while True:\n",
    "        r_new = np.dot(transition_matrix, rank_vector)\n",
    "        if np.linalg.norm(r_new-rank_vector,1)==0:\n",
    "            break\n",
    "        rank_vector = r_new\n",
    "        \n",
    "        if i>300:\n",
    "            break\n",
    "        i+=1\n",
    "\n",
    "    lis = list(Adjuscent_matrix_df.to_dict().keys())\n",
    "    rank_dic = {lis[i]:j[0]  for i,j in enumerate(list(r_new))}\n",
    "    return {i:j for i,j in sorted(rank_dic.items(), key = lambda x:x[1], reverse = True)}"
   ]
  },
  {
   "cell_type": "code",
   "execution_count": 9,
   "id": "aeb49205",
   "metadata": {},
   "outputs": [
    {
     "data": {
      "text/plain": [
       "{'D': 0.3846153846153842,\n",
       " 'B': 0.3076923076923074,\n",
       " 'C': 0.2307692307692305,\n",
       " 'A': 0.07692307692307683}"
      ]
     },
     "execution_count": 9,
     "metadata": {},
     "output_type": "execute_result"
    }
   ],
   "source": [
    "page_rank(Adjuscent_matrix)"
   ]
  },
  {
   "cell_type": "code",
   "execution_count": 10,
   "id": "b590a9fb",
   "metadata": {},
   "outputs": [
    {
     "data": {
      "text/plain": [
       "{'D': 0.3846153846153842,\n",
       " 'B': 0.3076923076923074,\n",
       " 'C': 0.2307692307692305,\n",
       " 'A': 0.07692307692307683}"
      ]
     },
     "execution_count": 10,
     "metadata": {},
     "output_type": "execute_result"
    }
   ],
   "source": [
    "page_rank(Adjuscent_matrix)"
   ]
  },
  {
   "cell_type": "markdown",
   "id": "5dd2de03",
   "metadata": {},
   "source": [
    "#### Spyder Trap"
   ]
  },
  {
   "cell_type": "markdown",
   "id": "7ab22e42",
   "metadata": {},
   "source": [
    "Teleportation"
   ]
  },
  {
   "cell_type": "code",
   "execution_count": 11,
   "id": "716e1852",
   "metadata": {},
   "outputs": [],
   "source": [
    "# vanilla page rank algorithms\n",
    "\n",
    "dic = {\n",
    "    \"A\":[0,1,1,0],\n",
    "    \"B\":[0,1,1,1],\n",
    "    \"C\":[1,0,1,0],\n",
    "    \"D\":[0,0,0,1]\n",
    "}\n",
    "Adjuscent_matrix = pd.DataFrame(dic, index = [\"A\", \"B\", \"C\", \"D\"])"
   ]
  },
  {
   "cell_type": "code",
   "execution_count": 12,
   "id": "3e5d7c10",
   "metadata": {},
   "outputs": [
    {
     "data": {
      "text/html": [
       "<div>\n",
       "<style scoped>\n",
       "    .dataframe tbody tr th:only-of-type {\n",
       "        vertical-align: middle;\n",
       "    }\n",
       "\n",
       "    .dataframe tbody tr th {\n",
       "        vertical-align: top;\n",
       "    }\n",
       "\n",
       "    .dataframe thead th {\n",
       "        text-align: right;\n",
       "    }\n",
       "</style>\n",
       "<table border=\"1\" class=\"dataframe\">\n",
       "  <thead>\n",
       "    <tr style=\"text-align: right;\">\n",
       "      <th></th>\n",
       "      <th>A</th>\n",
       "      <th>B</th>\n",
       "      <th>C</th>\n",
       "      <th>D</th>\n",
       "    </tr>\n",
       "  </thead>\n",
       "  <tbody>\n",
       "    <tr>\n",
       "      <th>A</th>\n",
       "      <td>0</td>\n",
       "      <td>0</td>\n",
       "      <td>1</td>\n",
       "      <td>0</td>\n",
       "    </tr>\n",
       "    <tr>\n",
       "      <th>B</th>\n",
       "      <td>1</td>\n",
       "      <td>1</td>\n",
       "      <td>0</td>\n",
       "      <td>0</td>\n",
       "    </tr>\n",
       "    <tr>\n",
       "      <th>C</th>\n",
       "      <td>1</td>\n",
       "      <td>1</td>\n",
       "      <td>1</td>\n",
       "      <td>0</td>\n",
       "    </tr>\n",
       "    <tr>\n",
       "      <th>D</th>\n",
       "      <td>0</td>\n",
       "      <td>1</td>\n",
       "      <td>0</td>\n",
       "      <td>1</td>\n",
       "    </tr>\n",
       "  </tbody>\n",
       "</table>\n",
       "</div>"
      ],
      "text/plain": [
       "   A  B  C  D\n",
       "A  0  0  1  0\n",
       "B  1  1  0  0\n",
       "C  1  1  1  0\n",
       "D  0  1  0  1"
      ]
     },
     "execution_count": 12,
     "metadata": {},
     "output_type": "execute_result"
    }
   ],
   "source": [
    "Adjuscent_matrix"
   ]
  },
  {
   "cell_type": "code",
   "execution_count": 13,
   "id": "3f449fa1",
   "metadata": {},
   "outputs": [
    {
     "data": {
      "text/plain": [
       "{'D': 0.9999999999738564,\n",
       " 'C': 1.3071797862295195e-11,\n",
       " 'A': 7.076826464462802e-12,\n",
       " 'B': 5.994971397832393e-12}"
      ]
     },
     "execution_count": 13,
     "metadata": {},
     "output_type": "execute_result"
    }
   ],
   "source": [
    "page_rank(Adjuscent_matrix)"
   ]
  },
  {
   "cell_type": "markdown",
   "id": "d680e59a",
   "metadata": {},
   "source": [
    "#### Modified page rank algorithms"
   ]
  },
  {
   "cell_type": "code",
   "execution_count": 14,
   "id": "370468d1",
   "metadata": {},
   "outputs": [
    {
     "data": {
      "text/plain": [
       "array([[0.25, 0.25, 0.25, 0.25],\n",
       "       [0.25, 0.25, 0.25, 0.25],\n",
       "       [0.25, 0.25, 0.25, 0.25],\n",
       "       [0.25, 0.25, 0.25, 0.25]])"
      ]
     },
     "execution_count": 14,
     "metadata": {},
     "output_type": "execute_result"
    }
   ],
   "source": [
    "teleporatation = (np.ones(Adjuscent_matrix.shape[0]*Adjuscent_matrix.shape[1])/Adjuscent_matrix.shape[0]).reshape(Adjuscent_matrix.shape)\n",
    "teleporatation"
   ]
  },
  {
   "cell_type": "code",
   "execution_count": 15,
   "id": "fbf1a782",
   "metadata": {},
   "outputs": [],
   "source": [
    "def page_rank_modify(Adjuscent_matrix_df):\n",
    "    Adjuscent_matrix = Adjuscent_matrix_df.values\n",
    "    \n",
    "#     transition matrix\n",
    "    transition_matrix = np.where(\n",
    "    Adjuscent_matrix.sum(axis=0) > 0,\n",
    "    Adjuscent_matrix / Adjuscent_matrix.sum(axis=0),\n",
    "    Adjuscent_matrix\n",
    "    )\n",
    "    \n",
    "#     rank vector\n",
    "    rank_vector = np.ones(transition_matrix.shape[0])/transition_matrix.shape[0]\n",
    "    rank_vector = rank_vector.reshape(rank_vector.shape[0],1)\n",
    "    r_new = rank_vector\n",
    "    \n",
    "    teleporatation = (np.ones(Adjuscent_matrix.shape[0]*Adjuscent_matrix.shape[1])/Adjuscent_matrix.shape[0]).reshape(Adjuscent_matrix.shape)\n",
    "    i = 0\n",
    "    while True:\n",
    "        r_new = 0.7*np.dot(transition_matrix, rank_vector)+0.3*np.dot(teleporatation,rank_vector)\n",
    "        if np.linalg.norm(r_new-rank_vector,1)==0:\n",
    "            break\n",
    "        rank_vector = r_new\n",
    "        \n",
    "        if i>1000:\n",
    "            break\n",
    "        i+=1\n",
    "\n",
    "    lis = list(Adjuscent_matrix_df.to_dict().keys())\n",
    "    rank_dic = {lis[i]:j[0]  for i,j in enumerate(list(r_new))}\n",
    "    return {i:j for i,j in sorted(rank_dic.items(), key = lambda x:x[1], reverse = True)}"
   ]
  },
  {
   "cell_type": "code",
   "execution_count": 16,
   "id": "277f48c0",
   "metadata": {},
   "outputs": [
    {
     "data": {
      "text/plain": [
       "{'D': 0.38619733924611777,\n",
       " 'C': 0.2694013303769388,\n",
       " 'B': 0.17511086474501025,\n",
       " 'A': 0.16929046563192823}"
      ]
     },
     "execution_count": 16,
     "metadata": {},
     "output_type": "execute_result"
    }
   ],
   "source": [
    "page_rank_modify(Adjuscent_matrix)\n"
   ]
  },
  {
   "cell_type": "code",
   "execution_count": null,
   "id": "f4c0bd62",
   "metadata": {},
   "outputs": [],
   "source": []
  }
 ],
 "metadata": {
  "kernelspec": {
   "display_name": "Python 3 (ipykernel)",
   "language": "python",
   "name": "python3"
  },
  "language_info": {
   "codemirror_mode": {
    "name": "ipython",
    "version": 3
   },
   "file_extension": ".py",
   "mimetype": "text/x-python",
   "name": "python",
   "nbconvert_exporter": "python",
   "pygments_lexer": "ipython3",
   "version": "3.11.4"
  }
 },
 "nbformat": 4,
 "nbformat_minor": 5
}
