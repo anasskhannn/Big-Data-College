{
 "cells": [
  {
   "cell_type": "markdown",
   "id": "0a8181d0-1dff-4fc3-9ddd-60d016a5ea15",
   "metadata": {},
   "source": [
    "## Jaccard Similarity"
   ]
  },
  {
   "cell_type": "code",
   "execution_count": 1,
   "id": "bf21064a-5c32-47b8-b649-37189b32917c",
   "metadata": {},
   "outputs": [],
   "source": [
    "import numpy as np"
   ]
  },
  {
   "cell_type": "code",
   "execution_count": 2,
   "id": "fd42a79c-b512-41b6-9ee3-6cd0f8b6ffaa",
   "metadata": {},
   "outputs": [],
   "source": [
    "# Jaccard Similarity\n",
    "# meta data of a movie \n",
    "x=[\"amir khan\",\"katrina\",\"anurag\",\"pk\",\"comedy\"]\n",
    "y=[\"amir khan\",\"kareena\",\"anurag\",\"talaash\",\"comedy\"]"
   ]
  },
  {
   "cell_type": "code",
   "execution_count": 3,
   "id": "9b43677a-b64b-4c4c-8cb0-039183c5fc12",
   "metadata": {},
   "outputs": [],
   "source": [
    "# convertung the list to set for better sets operation\n",
    "x=set(x)\n",
    "y=set(y)"
   ]
  },
  {
   "cell_type": "code",
   "execution_count": 4,
   "id": "55404f92-ad19-40e8-b50d-c14a4c2a1cb4",
   "metadata": {},
   "outputs": [
    {
     "name": "stdout",
     "output_type": "stream",
     "text": [
      "0.42857142857142855\n"
     ]
    }
   ],
   "source": [
    "# (x intersection y / x union y)\n",
    "similarity = len(x & y) / len(x|y) \n",
    "# & - intersection\n",
    "# | - union\n",
    "\n",
    "print(similarity)"
   ]
  },
  {
   "cell_type": "markdown",
   "id": "f118796c-770e-41fa-8c19-8b197a12de00",
   "metadata": {},
   "source": [
    "## Edit Distance Using Levenshtien "
   ]
  },
  {
   "cell_type": "code",
   "execution_count": 7,
   "id": "aff29766-39a3-4c2a-9f2f-6f892fb6c5da",
   "metadata": {},
   "outputs": [],
   "source": [
    "import Levenshtein"
   ]
  },
  {
   "cell_type": "code",
   "execution_count": 8,
   "id": "eeae4bd8-7b47-4c88-8479-d00473897ea6",
   "metadata": {},
   "outputs": [
    {
     "name": "stdout",
     "output_type": "stream",
     "text": [
      "pkamir khancomedykatrinaanurag\n"
     ]
    }
   ],
   "source": [
    "x = \"\".join(x)\n",
    "print(x)"
   ]
  },
  {
   "cell_type": "code",
   "execution_count": 9,
   "id": "365e5b49-26f7-4c1c-93a0-05d7f214c3d6",
   "metadata": {},
   "outputs": [
    {
     "name": "stdout",
     "output_type": "stream",
     "text": [
      "amir khancomedykareenatalaashanurag\n"
     ]
    }
   ],
   "source": [
    "y=\"\".join(y)\n",
    "print(y)"
   ]
  },
  {
   "cell_type": "code",
   "execution_count": 12,
   "id": "ee94bc40-8fcb-46b6-8d7e-329d7b516a4a",
   "metadata": {},
   "outputs": [
    {
     "data": {
      "text/plain": [
       "12"
      ]
     },
     "execution_count": 12,
     "metadata": {},
     "output_type": "execute_result"
    }
   ],
   "source": [
    "Levenshtein.distance(x,y)"
   ]
  },
  {
   "cell_type": "markdown",
   "id": "fe818baa-a24b-4386-afb9-23af8247d425",
   "metadata": {},
   "source": [
    "## Cosine Similarity"
   ]
  },
  {
   "cell_type": "code",
   "execution_count": 13,
   "id": "933db52f-e015-461d-8f7b-fc3906f32eb3",
   "metadata": {},
   "outputs": [],
   "source": [
    "def cosine_similarity(x,y):\n",
    "    x= np.array(x)\n",
    "    y=np.array(y)\n",
    "    # cos = a.b/ |a| * |b|\n",
    "    return (x.dot(y))/np.linalg.norm(x) * np.linalg.norm(y)"
   ]
  },
  {
   "cell_type": "code",
   "execution_count": 16,
   "id": "b8653aa6-f1e2-4538-bdf2-6afa2f4d0ce4",
   "metadata": {},
   "outputs": [],
   "source": [
    "x=[\"amir khan\",\"katrina\",\"anurag\",\"pk\",\"comedy\"]\n",
    "y=[\"amir khan\",\"kareena\",\"anurag\",\"talaash\",\"comedy\"]"
   ]
  },
  {
   "cell_type": "code",
   "execution_count": 17,
   "id": "719c93c4-c21f-4666-8169-24b53e80d991",
   "metadata": {},
   "outputs": [],
   "source": [
    "from sklearn.feature_extraction.text import CountVectorizer"
   ]
  },
  {
   "cell_type": "code",
   "execution_count": 18,
   "id": "b2724be5-02af-4d98-a7b7-2206f8a4476e",
   "metadata": {},
   "outputs": [],
   "source": [
    "# Writing it vertically to perform one hot encoding\n",
    "vectorizer = CountVectorizer()\n",
    "array=vectorizer.fit_transform(x)"
   ]
  },
  {
   "cell_type": "code",
   "execution_count": 23,
   "id": "f49c45db-6769-45fa-989e-8a73e24a459b",
   "metadata": {},
   "outputs": [
    {
     "name": "stdout",
     "output_type": "stream",
     "text": [
      "['amir khan', 'katrina', 'anurag', 'pk', 'comedy']\n",
      "[[1 0 0 0 1 0]\n",
      " [0 0 0 1 0 0]\n",
      " [0 1 0 0 0 0]\n",
      " [0 0 0 0 0 1]\n",
      " [0 0 1 0 0 0]]\n"
     ]
    }
   ],
   "source": [
    "print(x)\n",
    "# print(array)\n",
    "x_array = array.toarray()\n",
    "print(x_array)"
   ]
  },
  {
   "cell_type": "code",
   "execution_count": 32,
   "id": "b6d33bd1-0432-4189-93ff-fdf1129ebe6c",
   "metadata": {},
   "outputs": [
    {
     "name": "stdout",
     "output_type": "stream",
     "text": [
      "  (0, 0)\t1\n",
      "  (0, 4)\t1\n",
      "  (2, 1)\t1\n",
      "  (4, 2)\t1\n"
     ]
    }
   ],
   "source": [
    "y_array=vectorizer.transform(y)\n",
    "print(y_array)"
   ]
  },
  {
   "cell_type": "code",
   "execution_count": 33,
   "id": "bbccac5b-4220-404c-8762-e9380768fdfb",
   "metadata": {},
   "outputs": [
    {
     "name": "stdout",
     "output_type": "stream",
     "text": [
      "[[1 0 0 0 1 0]\n",
      " [0 0 0 0 0 0]\n",
      " [0 1 0 0 0 0]\n",
      " [0 0 0 0 0 0]\n",
      " [0 0 1 0 0 0]]\n"
     ]
    }
   ],
   "source": [
    "y_array = y_array.toarray()\n",
    "print(y_array)"
   ]
  },
  {
   "cell_type": "code",
   "execution_count": 35,
   "id": "1b598401-528f-4644-9e57-2b399b0d5a94",
   "metadata": {},
   "outputs": [
    {
     "data": {
      "text/plain": [
       "array([[1.63299316, 0.        , 0.        , 0.        , 0.        ],\n",
       "       [0.        , 0.        , 0.        , 0.        , 0.        ],\n",
       "       [0.        , 0.        , 0.81649658, 0.        , 0.        ],\n",
       "       [0.        , 0.        , 0.        , 0.        , 0.        ],\n",
       "       [0.        , 0.        , 0.        , 0.        , 0.81649658]])"
      ]
     },
     "execution_count": 35,
     "metadata": {},
     "output_type": "execute_result"
    }
   ],
   "source": [
    "# Cosine similarity\n",
    "\n",
    "# cosine_similarity(x_array,y_array)\n",
    "cosine_similarity(x_array,y_array.T)"
   ]
  },
  {
   "cell_type": "code",
   "execution_count": null,
   "id": "df55a693-b2b7-4522-9b36-d2a5501bc4d5",
   "metadata": {},
   "outputs": [],
   "source": []
  }
 ],
 "metadata": {
  "kernelspec": {
   "display_name": "Python 3 (ipykernel)",
   "language": "python",
   "name": "python3"
  },
  "language_info": {
   "codemirror_mode": {
    "name": "ipython",
    "version": 3
   },
   "file_extension": ".py",
   "mimetype": "text/x-python",
   "name": "python",
   "nbconvert_exporter": "python",
   "pygments_lexer": "ipython3",
   "version": "3.12.4"
  }
 },
 "nbformat": 4,
 "nbformat_minor": 5
}
