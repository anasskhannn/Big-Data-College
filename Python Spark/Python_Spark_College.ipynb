{
 "cells": [
  {
   "cell_type": "code",
   "execution_count": 1,
   "id": "b42823ec-5e98-4b6b-8dc9-bdb8ec2a4a1a",
   "metadata": {},
   "outputs": [],
   "source": [
    "# pip install pyspark"
   ]
  },
  {
   "cell_type": "code",
   "execution_count": 2,
   "id": "e557bbb9-a33f-47e1-bce2-558b2e1a1445",
   "metadata": {},
   "outputs": [],
   "source": [
    "import pyspark\n",
    "from pyspark import SparkContext, SparkConf\n",
    "from pyspark.sql import SparkSession"
   ]
  },
  {
   "cell_type": "code",
   "execution_count": 3,
   "id": "1a4f87dd-81ab-41bc-b473-da0262e1bdf5",
   "metadata": {},
   "outputs": [
    {
     "name": "stderr",
     "output_type": "stream",
     "text": [
      "24/08/14 11:16:55 WARN Utils: Your hostname, PC-390 resolves to a loopback address: 127.0.1.1; using 192.168.15.114 instead (on interface enp4s0)\n",
      "24/08/14 11:16:55 WARN Utils: Set SPARK_LOCAL_IP if you need to bind to another address\n",
      "Setting default log level to \"WARN\".\n",
      "To adjust logging level use sc.setLogLevel(newLevel). For SparkR, use setLogLevel(newLevel).\n",
      "24/08/14 11:16:56 WARN NativeCodeLoader: Unable to load native-hadoop library for your platform... using builtin-java classes where applicable\n"
     ]
    }
   ],
   "source": [
    "spark = SparkSession.builder.appName('Practice').master(\"local[*]\").getOrCreate()"
   ]
  },
  {
   "cell_type": "code",
   "execution_count": 4,
   "id": "c3098ecd-8477-4e10-b805-6db704117770",
   "metadata": {},
   "outputs": [
    {
     "data": {
      "text/html": [
       "\n",
       "            <div>\n",
       "                <p><b>SparkSession - in-memory</b></p>\n",
       "                \n",
       "        <div>\n",
       "            <p><b>SparkContext</b></p>\n",
       "\n",
       "            <p><a href=\"http://192.168.15.114:4040\">Spark UI</a></p>\n",
       "\n",
       "            <dl>\n",
       "              <dt>Version</dt>\n",
       "                <dd><code>v3.5.2</code></dd>\n",
       "              <dt>Master</dt>\n",
       "                <dd><code>local[*]</code></dd>\n",
       "              <dt>AppName</dt>\n",
       "                <dd><code>Practice</code></dd>\n",
       "            </dl>\n",
       "        </div>\n",
       "        \n",
       "            </div>\n",
       "        "
      ],
      "text/plain": [
       "<pyspark.sql.session.SparkSession at 0x747efb5a19d0>"
      ]
     },
     "execution_count": 4,
     "metadata": {},
     "output_type": "execute_result"
    }
   ],
   "source": [
    "spark"
   ]
  },
  {
   "cell_type": "code",
   "execution_count": 5,
   "id": "ae1bdf13-07ed-4341-8365-6b3e84d527b6",
   "metadata": {},
   "outputs": [],
   "source": [
    "customer = spark.read.csv(\"Ecommerce Database/Customers.csv\",\n",
    "                          inferSchema=True, header=True)"
   ]
  },
  {
   "cell_type": "code",
   "execution_count": 6,
   "id": "29aa495a-ad81-4f95-a403-436b472c88da",
   "metadata": {},
   "outputs": [
    {
     "name": "stdout",
     "output_type": "stream",
     "text": [
      "+----------+-----------+---------+-------------------+-----------+----------------+-------------+----------+----------+--------------------+-------------------+\n",
      "|CustomerID|  FirstName| LastName|      Date_of_Birth|       City|           State|      Country|PostalCode|     Phone|               Email|        DateEntered|\n",
      "+----------+-----------+---------+-------------------+-----------+----------------+-------------+----------+----------+--------------------+-------------------+\n",
      "|     57081|      James|    Smith|1987-03-26 00:00:00|   New York|        New York|United States|    280862|9638483934|James.Smith@gmail...|2020-01-02 00:00:00|\n",
      "|     57082|     Robert|Downey Jr|1973-05-24 00:00:00|   New York|        New York|United States|    376573|6588282115|Robert.Downey Jr@...|2020-01-06 00:00:00|\n",
      "|     57083|       John| Williams|1990-04-14 00:00:00|    Chicago|        Illinois|United States|    485629|7641021429|John.Williams@gma...|2020-01-11 00:00:00|\n",
      "|     57084|    Michael|  Johnson|1953-03-25 00:00:00|   Brisbane|      Queensland|    Australia|    260866|7354232181|Michael.Johnson@g...|2020-01-16 00:00:00|\n",
      "|     57085|      Steve| Williams|1971-04-24 00:00:00|     Bremen|          Bremen|      Germany|    740338|6285552036|Steve.Williams@gm...|2020-01-17 00:00:00|\n",
      "|     57086|      David|  Beckham|1965-10-18 00:00:00|    Villach|       Carinthia|      Austria|    621492|7756781677|David.Beckham@gma...|2020-01-20 00:00:00|\n",
      "|     57087|    Richard|    Brown|1958-12-16 00:00:00|San Antonio|           Texas|United States|    110945|8420993031|Richard.Brown@gma...|2020-01-20 00:00:00|\n",
      "|     57088|     Joseph|    James|1967-08-27 00:00:00|  Amsterdam|   North Holland|  Netherlands|    186896|6691466381|Joseph.James@gmai...|2020-01-25 00:00:00|\n",
      "|     57089|     Thomas|    Jones|1950-04-30 00:00:00|     Dallas|           Texas|United States|    174080|8024463594|Thomas.Jones@gmai...|2020-01-26 00:00:00|\n",
      "|     57090|    Charles|     King|1993-06-24 00:00:00|     Warsaw|        Masovian|       Poland|    589838|8498546902|Charles.King@gmai...|2020-01-27 00:00:00|\n",
      "|     57091|Christopher|   Garcia|1988-03-21 00:00:00|     Austin|           Texas|United States|    772795|9610580408|Christopher.Garci...|2020-02-03 00:00:00|\n",
      "|     57092|     Daniel|   Rensch|1966-02-10 00:00:00|     Dublin|          Dublin|      Ireland|    189723|7947018222|Daniel.Rensch@gma...|2020-02-03 00:00:00|\n",
      "|     57093|    Matthew|   Miller|1971-06-03 00:00:00|   Brisbane|      Queensland|    Australia|    901170|7764122382|Matthew.Miller@gm...|2020-02-04 00:00:00|\n",
      "|     57094|    Anthony|    James|1957-04-12 00:00:00|   Brussels|Brussels-Capital|      Belgium|    322713|9371469569|Anthony.James@gma...|2020-02-07 00:00:00|\n",
      "|     57095|       Mark|    Davis|1960-03-13 00:00:00|   Brussels|Brussels-Capital|      Belgium|    943158|8396048181|Mark.Davis@gmail.com|2020-02-09 00:00:00|\n",
      "|     57096|     Donald|Rodriguez|1952-01-29 00:00:00|     Patras|  Western Greece|       Greece|    127461|9919606399|Donald.Rodriguez@...|2020-02-09 00:00:00|\n",
      "|     57097|     Steven|    Smith|1995-07-13 00:00:00|      Braga|           Braga|     Portugal|    531783|7287587361|Steven.Smith@gmai...|2020-02-10 00:00:00|\n",
      "|     57098|       Paul|   Walker|1960-09-21 00:00:00|    Seattle|      Washington|United States|    427696|8892185286|Paul.Walker@gmail...|2020-02-11 00:00:00|\n",
      "|     57099|     Andrew| Martinez|1998-03-04 00:00:00|     Bruges|   West Flanders|      Belgium|    717216|9289999420|Andrew.Martinez@g...|2020-02-11 00:00:00|\n",
      "|     57100|     Joshua|Fernandez|1994-05-07 00:00:00|      Braga|           Braga|     Portugal|    700077|7810204569|Joshua.Fernandez@...|2020-02-13 00:00:00|\n",
      "+----------+-----------+---------+-------------------+-----------+----------------+-------------+----------+----------+--------------------+-------------------+\n",
      "only showing top 20 rows\n",
      "\n"
     ]
    }
   ],
   "source": [
    "customer.show()"
   ]
  },
  {
   "cell_type": "code",
   "execution_count": 7,
   "id": "1ba838c0-fc75-43db-b39f-39f63f826a02",
   "metadata": {},
   "outputs": [
    {
     "data": {
      "text/plain": [
       "525"
      ]
     },
     "execution_count": 7,
     "metadata": {},
     "output_type": "execute_result"
    }
   ],
   "source": [
    "customer.count()"
   ]
  },
  {
   "cell_type": "code",
   "execution_count": 8,
   "id": "5abf2c1b-f2bb-45e4-b7cf-0267af882aa3",
   "metadata": {},
   "outputs": [
    {
     "data": {
      "text/plain": [
       "11"
      ]
     },
     "execution_count": 8,
     "metadata": {},
     "output_type": "execute_result"
    }
   ],
   "source": [
    "len(customer.columns)"
   ]
  },
  {
   "cell_type": "code",
   "execution_count": 9,
   "id": "6fb21024-2adf-41a5-838b-0c22bd48b968",
   "metadata": {},
   "outputs": [
    {
     "name": "stdout",
     "output_type": "stream",
     "text": [
      "+---------+---------+-------------+\n",
      "|FirstName| LastName|      Country|\n",
      "+---------+---------+-------------+\n",
      "|    James|    Smith|United States|\n",
      "|   Robert|Downey Jr|United States|\n",
      "|     John| Williams|United States|\n",
      "|  Michael|  Johnson|    Australia|\n",
      "|    Steve| Williams|      Germany|\n",
      "|    David|  Beckham|      Austria|\n",
      "|  Richard|    Brown|United States|\n",
      "|   Joseph|    James|  Netherlands|\n",
      "|   Thomas|    Jones|United States|\n",
      "|  Charles|     King|       Poland|\n",
      "+---------+---------+-------------+\n",
      "only showing top 10 rows\n",
      "\n"
     ]
    }
   ],
   "source": [
    "customer.select(\"FirstName\", \"LastName\", \"Country\").show(10)"
   ]
  },
  {
   "cell_type": "code",
   "execution_count": 10,
   "id": "46311c5d-2178-49f1-9bc1-f974f0a413c0",
   "metadata": {},
   "outputs": [
    {
     "name": "stdout",
     "output_type": "stream",
     "text": [
      "+----------------+-----+\n",
      "|         Country|count|\n",
      "+----------------+-----+\n",
      "|          Russia|   24|\n",
      "|         Germany|   29|\n",
      "|          France|   35|\n",
      "|          Greece|   28|\n",
      "|         Belgium|   27|\n",
      "|   United States|   66|\n",
      "|           India|   40|\n",
      "|           Italy|   14|\n",
      "|         Ireland|   27|\n",
      "|     Switzerland|   33|\n",
      "|     New Zealand|    5|\n",
      "|          Poland|   19|\n",
      "|        Portugal|   37|\n",
      "|       Australia|   30|\n",
      "|         Romania|   20|\n",
      "|         Austria|   32|\n",
      "|    South Africa|    5|\n",
      "|Northern Ireland|   30|\n",
      "|     Netherlands|   24|\n",
      "+----------------+-----+\n",
      "\n"
     ]
    }
   ],
   "source": [
    "customer.groupBy(\"Country\").count().show()"
   ]
  },
  {
   "cell_type": "code",
   "execution_count": 11,
   "id": "f7386b48-9678-4099-bccd-751141cf3ef6",
   "metadata": {},
   "outputs": [
    {
     "name": "stdout",
     "output_type": "stream",
     "text": [
      "+----------------+-----+\n",
      "|         Country|count|\n",
      "+----------------+-----+\n",
      "|   United States|   66|\n",
      "|           India|   40|\n",
      "|        Portugal|   37|\n",
      "|          France|   35|\n",
      "|     Switzerland|   33|\n",
      "|         Austria|   32|\n",
      "|       Australia|   30|\n",
      "|Northern Ireland|   30|\n",
      "|         Germany|   29|\n",
      "|          Greece|   28|\n",
      "|         Belgium|   27|\n",
      "|         Ireland|   27|\n",
      "|          Russia|   24|\n",
      "|     Netherlands|   24|\n",
      "|         Romania|   20|\n",
      "|          Poland|   19|\n",
      "|           Italy|   14|\n",
      "|     New Zealand|    5|\n",
      "|    South Africa|    5|\n",
      "+----------------+-----+\n",
      "\n"
     ]
    }
   ],
   "source": [
    "customer.groupBy(\"Country\").count().orderBy(\"count\", ascending=False).show()"
   ]
  },
  {
   "cell_type": "code",
   "execution_count": 12,
   "id": "63f7f8b3-f8e6-4f95-be8f-8e2cdbefe68b",
   "metadata": {},
   "outputs": [
    {
     "name": "stdout",
     "output_type": "stream",
     "text": [
      "+----+-----+-----+\n",
      "|Year|Month|count|\n",
      "+----+-----+-----+\n",
      "|2020|    1|   10|\n",
      "|2020|    2|   23|\n",
      "|2020|    3|   30|\n",
      "|2020|    4|   30|\n",
      "|2020|    5|   21|\n",
      "|2020|    6|   20|\n",
      "|2020|    7|   10|\n",
      "|2020|    8|   15|\n",
      "|2020|    9|   22|\n",
      "|2020|   10|   18|\n",
      "|2020|   11|   10|\n",
      "|2020|   12|   10|\n",
      "|2021|    1|   40|\n",
      "|2021|    2|   41|\n",
      "|2021|    3|   39|\n",
      "|2021|    4|   25|\n",
      "|2021|    5|   23|\n",
      "|2021|    6|   23|\n",
      "|2021|    7|   20|\n",
      "|2021|    8|   22|\n",
      "+----+-----+-----+\n",
      "only showing top 20 rows\n",
      "\n"
     ]
    }
   ],
   "source": [
    "from pyspark.sql import functions as F\n",
    "customer.groupBy(F.year(\"DateEntered\").alias(\"Year\"),\n",
    "                 F.month(\"DateEntered\").alias(\"Month\")).count().alias(\"Number of customers\").orderBy(\"Year\", \"Month\").show()"
   ]
  },
  {
   "cell_type": "code",
   "execution_count": 13,
   "id": "068f69d8-0d84-4156-8d20-b5f17a4e0618",
   "metadata": {},
   "outputs": [],
   "source": [
    "customer.createTempView(\"customer\")"
   ]
  },
  {
   "cell_type": "code",
   "execution_count": 14,
   "id": "5ed9d5a6-7b2b-4057-b39a-999f26d7d767",
   "metadata": {},
   "outputs": [
    {
     "name": "stdout",
     "output_type": "stream",
     "text": [
      "+----------+-----------+---------+-------------------+-----------+----------------+-------------+----------+----------+--------------------+-------------------+\n",
      "|CustomerID|  FirstName| LastName|      Date_of_Birth|       City|           State|      Country|PostalCode|     Phone|               Email|        DateEntered|\n",
      "+----------+-----------+---------+-------------------+-----------+----------------+-------------+----------+----------+--------------------+-------------------+\n",
      "|     57081|      James|    Smith|1987-03-26 00:00:00|   New York|        New York|United States|    280862|9638483934|James.Smith@gmail...|2020-01-02 00:00:00|\n",
      "|     57082|     Robert|Downey Jr|1973-05-24 00:00:00|   New York|        New York|United States|    376573|6588282115|Robert.Downey Jr@...|2020-01-06 00:00:00|\n",
      "|     57083|       John| Williams|1990-04-14 00:00:00|    Chicago|        Illinois|United States|    485629|7641021429|John.Williams@gma...|2020-01-11 00:00:00|\n",
      "|     57084|    Michael|  Johnson|1953-03-25 00:00:00|   Brisbane|      Queensland|    Australia|    260866|7354232181|Michael.Johnson@g...|2020-01-16 00:00:00|\n",
      "|     57085|      Steve| Williams|1971-04-24 00:00:00|     Bremen|          Bremen|      Germany|    740338|6285552036|Steve.Williams@gm...|2020-01-17 00:00:00|\n",
      "|     57086|      David|  Beckham|1965-10-18 00:00:00|    Villach|       Carinthia|      Austria|    621492|7756781677|David.Beckham@gma...|2020-01-20 00:00:00|\n",
      "|     57087|    Richard|    Brown|1958-12-16 00:00:00|San Antonio|           Texas|United States|    110945|8420993031|Richard.Brown@gma...|2020-01-20 00:00:00|\n",
      "|     57088|     Joseph|    James|1967-08-27 00:00:00|  Amsterdam|   North Holland|  Netherlands|    186896|6691466381|Joseph.James@gmai...|2020-01-25 00:00:00|\n",
      "|     57089|     Thomas|    Jones|1950-04-30 00:00:00|     Dallas|           Texas|United States|    174080|8024463594|Thomas.Jones@gmai...|2020-01-26 00:00:00|\n",
      "|     57090|    Charles|     King|1993-06-24 00:00:00|     Warsaw|        Masovian|       Poland|    589838|8498546902|Charles.King@gmai...|2020-01-27 00:00:00|\n",
      "|     57091|Christopher|   Garcia|1988-03-21 00:00:00|     Austin|           Texas|United States|    772795|9610580408|Christopher.Garci...|2020-02-03 00:00:00|\n",
      "|     57092|     Daniel|   Rensch|1966-02-10 00:00:00|     Dublin|          Dublin|      Ireland|    189723|7947018222|Daniel.Rensch@gma...|2020-02-03 00:00:00|\n",
      "|     57093|    Matthew|   Miller|1971-06-03 00:00:00|   Brisbane|      Queensland|    Australia|    901170|7764122382|Matthew.Miller@gm...|2020-02-04 00:00:00|\n",
      "|     57094|    Anthony|    James|1957-04-12 00:00:00|   Brussels|Brussels-Capital|      Belgium|    322713|9371469569|Anthony.James@gma...|2020-02-07 00:00:00|\n",
      "|     57095|       Mark|    Davis|1960-03-13 00:00:00|   Brussels|Brussels-Capital|      Belgium|    943158|8396048181|Mark.Davis@gmail.com|2020-02-09 00:00:00|\n",
      "|     57096|     Donald|Rodriguez|1952-01-29 00:00:00|     Patras|  Western Greece|       Greece|    127461|9919606399|Donald.Rodriguez@...|2020-02-09 00:00:00|\n",
      "|     57097|     Steven|    Smith|1995-07-13 00:00:00|      Braga|           Braga|     Portugal|    531783|7287587361|Steven.Smith@gmai...|2020-02-10 00:00:00|\n",
      "|     57098|       Paul|   Walker|1960-09-21 00:00:00|    Seattle|      Washington|United States|    427696|8892185286|Paul.Walker@gmail...|2020-02-11 00:00:00|\n",
      "|     57099|     Andrew| Martinez|1998-03-04 00:00:00|     Bruges|   West Flanders|      Belgium|    717216|9289999420|Andrew.Martinez@g...|2020-02-11 00:00:00|\n",
      "|     57100|     Joshua|Fernandez|1994-05-07 00:00:00|      Braga|           Braga|     Portugal|    700077|7810204569|Joshua.Fernandez@...|2020-02-13 00:00:00|\n",
      "+----------+-----------+---------+-------------------+-----------+----------------+-------------+----------+----------+--------------------+-------------------+\n",
      "only showing top 20 rows\n",
      "\n"
     ]
    }
   ],
   "source": [
    "spark.sql('SELECT * FROM CUSTOMER').show()"
   ]
  },
  {
   "cell_type": "code",
   "execution_count": 15,
   "id": "ccd38128-c93d-4b28-9b4b-6a3ef6025ce0",
   "metadata": {},
   "outputs": [
    {
     "name": "stdout",
     "output_type": "stream",
     "text": [
      "+----+-----+-------------------+\n",
      "|Year|Month|Number_of_customers|\n",
      "+----+-----+-------------------+\n",
      "|NULL| NULL|                525|\n",
      "+----+-----+-------------------+\n",
      "\n"
     ]
    }
   ],
   "source": [
    "spark.sql(\"\"\"\n",
    "            SELECT\n",
    "              YEAR('DateEntered') AS Year,\n",
    "              Month('DateEntered') AS Month,\n",
    "              COUNT(*) AS Number_of_customers\n",
    "              FROM customer\n",
    "              GROUP BY Year, Month\n",
    "              ORDER BY Year, Month\n",
    "              \"\"\").show()"
   ]
  },
  {
   "cell_type": "code",
   "execution_count": 16,
   "id": "5b78582c-b7a6-4380-b290-f00f0507b2c0",
   "metadata": {},
   "outputs": [],
   "source": [
    "Order = spark.read.csv(\"Ecommerce Database/Orders.csv\", inferSchema=True, header=True)"
   ]
  },
  {
   "cell_type": "code",
   "execution_count": 17,
   "id": "631cb36f-9216-4ae5-8077-529cb6e8d598",
   "metadata": {},
   "outputs": [
    {
     "name": "stdout",
     "output_type": "stream",
     "text": [
      "+-------+----------+---------+----------+---------+----------+------------+------------------+\n",
      "|OrderID|CustomerID|PaymentID| OrderDate|ShipperID|  ShipDate|DeliveryDate|Total_order_amount|\n",
      "+-------+----------+---------+----------+---------+----------+------------+------------------+\n",
      "|7655500|     57083|        2|12-01-2020|        7|13-01-2020|  19-01-2020|           25112.0|\n",
      "|7655501|     57086|        3|20-01-2020|        2|24-01-2020|  27-01-2020|           22453.0|\n",
      "|7655502|     57086|        4|06-02-2020|        7|11-02-2020|  21-02-2020|           13293.0|\n",
      "|7655503|     57088|        4|09-02-2020|        1|13-02-2020|  26-02-2020|           16063.0|\n",
      "|7655504|     57090|        4|11-02-2020|        3|15-02-2020|  20-02-2020|           15193.0|\n",
      "|7655505|     57094|        4|15-02-2020|        1|24-02-2020|  27-02-2020|           13581.0|\n",
      "|7655506|     57092|        4|20-02-2020|        8|23-02-2020|  27-02-2020|           74120.0|\n",
      "|7655507|     57095|        6|23-02-2020|        8|04-03-2020|  11-03-2020|           12092.0|\n",
      "|7655508|     57105|        4|26-02-2020|        5|28-02-2020|  08-03-2020|           48258.0|\n",
      "|7655509|     57095|        5|26-02-2020|        7|27-02-2020|  08-03-2020|            7509.0|\n",
      "|7655510|     57103|        3|02-03-2020|        7|07-03-2020|  14-03-2020|           11803.1|\n",
      "|7655511|     57100|        3|05-03-2020|        3|07-03-2020|  17-03-2020|           3851.35|\n",
      "|7655512|     57107|        4|05-03-2020|        8|14-03-2020|  27-03-2020|           20135.0|\n",
      "|7655513|     57101|        3|06-03-2020|        4|12-03-2020|  26-03-2020|           4837.35|\n",
      "|7655514|     57096|        5|07-03-2020|        7|14-03-2020|  22-03-2020|           10991.0|\n",
      "|7655515|     57110|        4|12-03-2020|        5|20-03-2020|  28-03-2020|           39769.0|\n",
      "|7655516|     57101|        3|13-03-2020|        2|14-03-2020|  19-03-2020|           33272.4|\n",
      "|7655517|     57095|        6|13-03-2020|        3|19-03-2020|  30-03-2020|           26176.0|\n",
      "|7655518|     57099|        6|15-03-2020|        6|22-03-2020|  05-04-2020|           20100.0|\n",
      "|7655519|     57121|        4|15-03-2020|        1|21-03-2020|  26-03-2020|            2555.0|\n",
      "+-------+----------+---------+----------+---------+----------+------------+------------------+\n",
      "only showing top 20 rows\n",
      "\n"
     ]
    }
   ],
   "source": [
    "Order.show()"
   ]
  },
  {
   "cell_type": "code",
   "execution_count": 18,
   "id": "0a62b979-e8b5-4a3c-acf2-1a9227e7af23",
   "metadata": {},
   "outputs": [
    {
     "name": "stdout",
     "output_type": "stream",
     "text": [
      "+----------+---------+---------+-------------------+---------+----------------+----------------+----------+----------+--------------------+-------------------+-------+---------+----------+---------+----------+------------+------------------+\n",
      "|CustomerID|FirstName| LastName|      Date_of_Birth|     City|           State|         Country|PostalCode|     Phone|               Email|        DateEntered|OrderID|PaymentID| OrderDate|ShipperID|  ShipDate|DeliveryDate|Total_order_amount|\n",
      "+----------+---------+---------+-------------------+---------+----------------+----------------+----------+----------+--------------------+-------------------+-------+---------+----------+---------+----------+------------+------------------+\n",
      "|     57083|     John| Williams|1990-04-14 00:00:00|  Chicago|        Illinois|   United States|    485629|7641021429|John.Williams@gma...|2020-01-11 00:00:00|7655500|        2|12-01-2020|        7|13-01-2020|  19-01-2020|           25112.0|\n",
      "|     57086|    David|  Beckham|1965-10-18 00:00:00|  Villach|       Carinthia|         Austria|    621492|7756781677|David.Beckham@gma...|2020-01-20 00:00:00|7655501|        3|20-01-2020|        2|24-01-2020|  27-01-2020|           22453.0|\n",
      "|     57086|    David|  Beckham|1965-10-18 00:00:00|  Villach|       Carinthia|         Austria|    621492|7756781677|David.Beckham@gma...|2020-01-20 00:00:00|7655502|        4|06-02-2020|        7|11-02-2020|  21-02-2020|           13293.0|\n",
      "|     57088|   Joseph|    James|1967-08-27 00:00:00|Amsterdam|   North Holland|     Netherlands|    186896|6691466381|Joseph.James@gmai...|2020-01-25 00:00:00|7655503|        4|09-02-2020|        1|13-02-2020|  26-02-2020|           16063.0|\n",
      "|     57090|  Charles|     King|1993-06-24 00:00:00|   Warsaw|        Masovian|          Poland|    589838|8498546902|Charles.King@gmai...|2020-01-27 00:00:00|7655504|        4|11-02-2020|        3|15-02-2020|  20-02-2020|           15193.0|\n",
      "|     57094|  Anthony|    James|1957-04-12 00:00:00| Brussels|Brussels-Capital|         Belgium|    322713|9371469569|Anthony.James@gma...|2020-02-07 00:00:00|7655505|        4|15-02-2020|        1|24-02-2020|  27-02-2020|           13581.0|\n",
      "|     57092|   Daniel|   Rensch|1966-02-10 00:00:00|   Dublin|          Dublin|         Ireland|    189723|7947018222|Daniel.Rensch@gma...|2020-02-03 00:00:00|7655506|        4|20-02-2020|        8|23-02-2020|  27-02-2020|           74120.0|\n",
      "|     57095|     Mark|    Davis|1960-03-13 00:00:00| Brussels|Brussels-Capital|         Belgium|    943158|8396048181|Mark.Davis@gmail.com|2020-02-09 00:00:00|7655507|        6|23-02-2020|        8|04-03-2020|  11-03-2020|           12092.0|\n",
      "|     57105|   Edward| Gonzalez|1972-07-08 00:00:00|   Patras|  Western Greece|          Greece|    588452|9234402314|Edward.Gonzalez@g...|2020-02-20 00:00:00|7655508|        4|26-02-2020|        5|28-02-2020|  08-03-2020|           48258.0|\n",
      "|     57095|     Mark|    Davis|1960-03-13 00:00:00| Brussels|Brussels-Capital|         Belgium|    943158|8396048181|Mark.Davis@gmail.com|2020-02-09 00:00:00|7655509|        5|26-02-2020|        7|27-02-2020|  08-03-2020|            7509.0|\n",
      "|     57103|    Brian|    Lopez|1952-01-26 00:00:00|   Bremen|          Bremen|         Germany|    627019|8605500276|Brian.Lopez@gmail...|2020-02-17 00:00:00|7655510|        3|02-03-2020|        7|07-03-2020|  14-03-2020|           11803.1|\n",
      "|     57100|   Joshua|Fernandez|1994-05-07 00:00:00|    Braga|           Braga|        Portugal|    700077|7810204569|Joshua.Fernandez@...|2020-02-13 00:00:00|7655511|        3|05-03-2020|        3|07-03-2020|  17-03-2020|           3851.35|\n",
      "|     57107|  Timothy|   Wilson|1970-05-29 00:00:00|   Zurich|          Zurich|     Switzerland|    884138|8426394400|Timothy.Wilson@gm...|2020-02-22 00:00:00|7655512|        4|05-03-2020|        8|14-03-2020|  27-03-2020|           20135.0|\n",
      "|     57101|  Kenneth|Hernandez|1987-08-07 00:00:00|  Belfast|         Belfast|Northern Ireland|    462012|6036253941|Kenneth.Hernandez...|2020-02-14 00:00:00|7655513|        3|06-03-2020|        4|12-03-2020|  26-03-2020|           4837.35|\n",
      "|     57096|   Donald|Rodriguez|1952-01-29 00:00:00|   Patras|  Western Greece|          Greece|    127461|9919606399|Donald.Rodriguez@...|2020-02-09 00:00:00|7655514|        5|07-03-2020|        7|14-03-2020|  22-03-2020|           10991.0|\n",
      "|     57110|     Ryan| Reynolds|1954-03-07 00:00:00| Brisbane|      Queensland|       Australia|    610116|6704627597|Ryan.Reynolds@gma...|2020-02-25 00:00:00|7655515|        4|12-03-2020|        5|20-03-2020|  28-03-2020|           39769.0|\n",
      "|     57101|  Kenneth|Hernandez|1987-08-07 00:00:00|  Belfast|         Belfast|Northern Ireland|    462012|6036253941|Kenneth.Hernandez...|2020-02-14 00:00:00|7655516|        3|13-03-2020|        2|14-03-2020|  19-03-2020|           33272.4|\n",
      "|     57095|     Mark|    Davis|1960-03-13 00:00:00| Brussels|Brussels-Capital|         Belgium|    943158|8396048181|Mark.Davis@gmail.com|2020-02-09 00:00:00|7655517|        6|13-03-2020|        3|19-03-2020|  30-03-2020|           26176.0|\n",
      "|     57099|   Andrew| Martinez|1998-03-04 00:00:00|   Bruges|   West Flanders|         Belgium|    717216|9289999420|Andrew.Martinez@g...|2020-02-11 00:00:00|7655518|        6|15-03-2020|        6|22-03-2020|  05-04-2020|           20100.0|\n",
      "|     57121| Benjamin|      Lee|1992-10-22 00:00:00|   Dublin|          Dublin|         Ireland|    909426|9945527365|Benjamin.Lee@gmai...|2020-03-07 00:00:00|7655519|        4|15-03-2020|        1|21-03-2020|  26-03-2020|            2555.0|\n",
      "+----------+---------+---------+-------------------+---------+----------------+----------------+----------+----------+--------------------+-------------------+-------+---------+----------+---------+----------+------------+------------------+\n",
      "only showing top 20 rows\n",
      "\n"
     ]
    }
   ],
   "source": [
    "customerOrder = customer.join(Order, on=\"CustomerID\", how=\"inner\").show()"
   ]
  },
  {
   "cell_type": "code",
   "execution_count": 19,
   "id": "cdbce28a-7d50-4304-ab44-a9a4c2ad27c2",
   "metadata": {},
   "outputs": [
    {
     "name": "stdout",
     "output_type": "stream",
     "text": [
      "+----------------+-----------+\n",
      "|         Country|    Revenue|\n",
      "+----------------+-----------+\n",
      "|   United States|1.1787059E7|\n",
      "|           India|  7813408.0|\n",
      "|        Portugal|  6626170.0|\n",
      "|       Australia|  5987945.0|\n",
      "|         Austria|  5629163.0|\n",
      "|     Switzerland|  5417082.0|\n",
      "|          France|  5364255.0|\n",
      "|Northern Ireland|  5129955.0|\n",
      "|          Greece|  4994220.0|\n",
      "|     Netherlands|  4742809.0|\n",
      "|         Ireland|  4645891.0|\n",
      "|         Germany|  4541393.0|\n",
      "|          Russia|  4404334.0|\n",
      "|         Belgium|  4069739.0|\n",
      "|         Romania|  3891355.0|\n",
      "|          Poland|  3050020.0|\n",
      "|           Italy|  1915701.0|\n",
      "|     New Zealand|   956542.0|\n",
      "|    South Africa|   952107.0|\n",
      "+----------------+-----------+\n",
      "\n"
     ]
    }
   ],
   "source": [
    "import pyspark.sql.functions as F\n",
    "\n",
    "customerOrder = customer.join(Order, on=\"CustomerID\", how=\"inner\")\n",
    "\n",
    "# Use the correct column name 'Total_order_amount'\n",
    "customerOrder.groupBy(\"Country\").agg(\n",
    "    F.round(F.sum(\"Total_order_amount\"),\n",
    "            0).alias(\"Revenue\")\n",
    ").orderBy(\"Revenue\", ascending=False).show()"
   ]
  },
  {
   "cell_type": "code",
   "execution_count": null,
   "id": "c495c1af-abe3-4a81-b831-435e40945d16",
   "metadata": {},
   "outputs": [],
   "source": []
  }
 ],
 "metadata": {
  "kernelspec": {
   "display_name": "Python 3 (ipykernel)",
   "language": "python",
   "name": "python3"
  },
  "language_info": {
   "codemirror_mode": {
    "name": "ipython",
    "version": 3
   },
   "file_extension": ".py",
   "mimetype": "text/x-python",
   "name": "python",
   "nbconvert_exporter": "python",
   "pygments_lexer": "ipython3",
   "version": "3.12.4"
  }
 },
 "nbformat": 4,
 "nbformat_minor": 5
}
