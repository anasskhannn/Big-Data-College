{
 "cells": [
  {
   "cell_type": "code",
   "execution_count": 1,
   "id": "f17cfab8-02e6-439b-8aff-206062b4c9bd",
   "metadata": {},
   "outputs": [],
   "source": [
    "import pyspark\n",
    "from pyspark import SparkContext, SparkConf\n",
    "from pyspark.sql import SparkSession"
   ]
  },
  {
   "cell_type": "code",
   "execution_count": 2,
   "id": "d29c3d32-6c7c-4413-bfc2-481c078ef58d",
   "metadata": {},
   "outputs": [
    {
     "name": "stderr",
     "output_type": "stream",
     "text": [
      "24/08/19 14:25:48 WARN Utils: Your hostname, PC-390 resolves to a loopback address: 127.0.1.1; using 192.168.15.11 instead (on interface enp4s0)\n",
      "24/08/19 14:25:48 WARN Utils: Set SPARK_LOCAL_IP if you need to bind to another address\n",
      "Setting default log level to \"WARN\".\n",
      "To adjust logging level use sc.setLogLevel(newLevel). For SparkR, use setLogLevel(newLevel).\n",
      "24/08/19 14:25:48 WARN NativeCodeLoader: Unable to load native-hadoop library for your platform... using builtin-java classes where applicable\n"
     ]
    }
   ],
   "source": [
    "spark = SparkSession.builder \\\n",
    ".appName('Practice')\\\n",
    ".master(\"local[*]\")\\\n",
    ".getOrCreate()"
   ]
  },
  {
   "cell_type": "code",
   "execution_count": 3,
   "id": "c480d9e5-322d-4fc6-9c2d-2b62e43bd252",
   "metadata": {},
   "outputs": [
    {
     "data": {
      "text/html": [
       "\n",
       "            <div>\n",
       "                <p><b>SparkSession - in-memory</b></p>\n",
       "                \n",
       "        <div>\n",
       "            <p><b>SparkContext</b></p>\n",
       "\n",
       "            <p><a href=\"http://192.168.15.11:4040\">Spark UI</a></p>\n",
       "\n",
       "            <dl>\n",
       "              <dt>Version</dt>\n",
       "                <dd><code>v3.5.2</code></dd>\n",
       "              <dt>Master</dt>\n",
       "                <dd><code>local[*]</code></dd>\n",
       "              <dt>AppName</dt>\n",
       "                <dd><code>Practice</code></dd>\n",
       "            </dl>\n",
       "        </div>\n",
       "        \n",
       "            </div>\n",
       "        "
      ],
      "text/plain": [
       "<pyspark.sql.session.SparkSession at 0x7f32d42753a0>"
      ]
     },
     "execution_count": 3,
     "metadata": {},
     "output_type": "execute_result"
    }
   ],
   "source": [
    "spark"
   ]
  },
  {
   "cell_type": "code",
   "execution_count": 4,
   "id": "dac1e12d-3f76-41d0-9e52-0812b91c9922",
   "metadata": {},
   "outputs": [],
   "source": [
    "import re\n",
    "import pandas"
   ]
  },
  {
   "cell_type": "code",
   "execution_count": 5,
   "id": "fe73133f-201c-421c-ad8a-052c339f68d1",
   "metadata": {},
   "outputs": [
    {
     "name": "stdout",
     "output_type": "stream",
     "text": [
      "+--------------------------------------------------------------------------------------------------------------------------+\n",
      "|value                                                                                                                     |\n",
      "+--------------------------------------------------------------------------------------------------------------------------+\n",
      "|in24.inetnebr.com - - [01/Aug/1995:00:00:01 -0400] \"GET /shuttle/missions/sts-68/news/sts-68-mcc-05.txt HTTP/1.0\" 200 1839|\n",
      "|uplherc.upl.com - - [01/Aug/1995:00:00:07 -0400] \"GET / HTTP/1.0\" 304 0                                                   |\n",
      "|uplherc.upl.com - - [01/Aug/1995:00:00:08 -0400] \"GET /images/ksclogo-medium.gif HTTP/1.0\" 304 0                          |\n",
      "|uplherc.upl.com - - [01/Aug/1995:00:00:08 -0400] \"GET /images/MOSAIC-logosmall.gif HTTP/1.0\" 304 0                        |\n",
      "|uplherc.upl.com - - [01/Aug/1995:00:00:08 -0400] \"GET /images/USA-logosmall.gif HTTP/1.0\" 304 0                           |\n",
      "+--------------------------------------------------------------------------------------------------------------------------+\n",
      "only showing top 5 rows\n",
      "\n"
     ]
    }
   ],
   "source": [
    "# Read the  Data (Always give full path in Spark)\n",
    "spark.read.text(\"Data/access_log_data\")\n",
    "\n",
    "\n",
    "\n",
    "df= spark.read.text(\"Data/access_log_data\")\n",
    "\n",
    "df.show(5, truncate=False)"
   ]
  },
  {
   "cell_type": "code",
   "execution_count": 6,
   "id": "1b069c2b-ebcf-4eff-9b8d-95445d5c647d",
   "metadata": {},
   "outputs": [
    {
     "data": {
      "text/plain": [
       "1569898"
      ]
     },
     "execution_count": 6,
     "metadata": {},
     "output_type": "execute_result"
    }
   ],
   "source": [
    "df.count()"
   ]
  },
  {
   "cell_type": "code",
   "execution_count": 7,
   "id": "f6e76f0b-5d35-4154-92e0-1f8ebb219146",
   "metadata": {},
   "outputs": [
    {
     "data": {
      "text/plain": [
       "12"
      ]
     },
     "execution_count": 7,
     "metadata": {},
     "output_type": "execute_result"
    }
   ],
   "source": [
    "# Partitioning the data\n",
    "df.rdd.getNumPartitions()"
   ]
  },
  {
   "cell_type": "code",
   "execution_count": 8,
   "id": "b3ebaa63-3d53-4816-8671-219447ddaa52",
   "metadata": {},
   "outputs": [],
   "source": [
    "sample = df.take(10)"
   ]
  },
  {
   "cell_type": "code",
   "execution_count": 9,
   "id": "4c1440ce-a8a2-441d-8628-c07cbdc1e77f",
   "metadata": {},
   "outputs": [
    {
     "data": {
      "text/plain": [
       "[Row(value='in24.inetnebr.com - - [01/Aug/1995:00:00:01 -0400] \"GET /shuttle/missions/sts-68/news/sts-68-mcc-05.txt HTTP/1.0\" 200 1839'),\n",
       " Row(value='uplherc.upl.com - - [01/Aug/1995:00:00:07 -0400] \"GET / HTTP/1.0\" 304 0'),\n",
       " Row(value='uplherc.upl.com - - [01/Aug/1995:00:00:08 -0400] \"GET /images/ksclogo-medium.gif HTTP/1.0\" 304 0'),\n",
       " Row(value='uplherc.upl.com - - [01/Aug/1995:00:00:08 -0400] \"GET /images/MOSAIC-logosmall.gif HTTP/1.0\" 304 0'),\n",
       " Row(value='uplherc.upl.com - - [01/Aug/1995:00:00:08 -0400] \"GET /images/USA-logosmall.gif HTTP/1.0\" 304 0'),\n",
       " Row(value='ix-esc-ca2-07.ix.netcom.com - - [01/Aug/1995:00:00:09 -0400] \"GET /images/launch-logo.gif HTTP/1.0\" 200 1713'),\n",
       " Row(value='uplherc.upl.com - - [01/Aug/1995:00:00:10 -0400] \"GET /images/WORLD-logosmall.gif HTTP/1.0\" 304 0'),\n",
       " Row(value='slppp6.intermind.net - - [01/Aug/1995:00:00:10 -0400] \"GET /history/skylab/skylab.html HTTP/1.0\" 200 1687'),\n",
       " Row(value='piweba4y.prodigy.com - - [01/Aug/1995:00:00:10 -0400] \"GET /images/launchmedium.gif HTTP/1.0\" 200 11853'),\n",
       " Row(value='slppp6.intermind.net - - [01/Aug/1995:00:00:11 -0400] \"GET /history/skylab/skylab-small.gif HTTP/1.0\" 200 9202')]"
      ]
     },
     "execution_count": 9,
     "metadata": {},
     "output_type": "execute_result"
    }
   ],
   "source": [
    "sample"
   ]
  },
  {
   "cell_type": "code",
   "execution_count": 10,
   "id": "c0720e80-b1e8-404f-a974-940346bd0c30",
   "metadata": {},
   "outputs": [],
   "source": [
    "# Removing row function from data\n",
    "\n",
    "sample = [item.value for item in sample]"
   ]
  },
  {
   "cell_type": "code",
   "execution_count": 11,
   "id": "4a5cd9de-4f33-4f0b-9c92-6e10231fa888",
   "metadata": {},
   "outputs": [
    {
     "data": {
      "text/plain": [
       "<re.Match object; span=(0, 18), match='in24.inetnebr.com '>"
      ]
     },
     "execution_count": 11,
     "metadata": {},
     "output_type": "execute_result"
    }
   ],
   "source": [
    "host_pattern = r'(^\\S+\\.[\\S+\\.]+\\S+)\\s'\n",
    "\n",
    "re.search(host_pattern, sample[0])"
   ]
  },
  {
   "cell_type": "code",
   "execution_count": 12,
   "id": "4d89e30c-b969-442a-b89a-ede6a7bc94df",
   "metadata": {},
   "outputs": [
    {
     "data": {
      "text/plain": [
       "'in24.inetnebr.com '"
      ]
     },
     "execution_count": 12,
     "metadata": {},
     "output_type": "execute_result"
    }
   ],
   "source": [
    "re.search(host_pattern, sample[0]).group()"
   ]
  },
  {
   "cell_type": "code",
   "execution_count": 17,
   "id": "15d008f0-d5df-4b81-afc4-d8eefc1bbc16",
   "metadata": {},
   "outputs": [],
   "source": [
    "hosts= [re.search(host_pattern, item).group() for item in sample if re.search(host_pattern, item)]"
   ]
  },
  {
   "cell_type": "code",
   "execution_count": 18,
   "id": "8f84d66f-a76a-4177-bf73-e238546ec120",
   "metadata": {},
   "outputs": [
    {
     "data": {
      "text/plain": [
       "['in24.inetnebr.com ',\n",
       " 'uplherc.upl.com ',\n",
       " 'uplherc.upl.com ',\n",
       " 'uplherc.upl.com ',\n",
       " 'uplherc.upl.com ',\n",
       " 'ix-esc-ca2-07.ix.netcom.com ',\n",
       " 'uplherc.upl.com ',\n",
       " 'slppp6.intermind.net ',\n",
       " 'piweba4y.prodigy.com ',\n",
       " 'slppp6.intermind.net ']"
      ]
     },
     "execution_count": 18,
     "metadata": {},
     "output_type": "execute_result"
    }
   ],
   "source": [
    "hosts"
   ]
  },
  {
   "cell_type": "code",
   "execution_count": 20,
   "id": "ebb449cd-8134-4ad4-9e0a-e9e01623ca12",
   "metadata": {},
   "outputs": [],
   "source": [
    "# Extracting Time Stamps\n",
    "\n",
    "ts_pattern = r'\\[(\\d{2}/\\w{3}/\\d{4}:\\d{2}:\\d{2}:\\d{2} -\\d{4})]'\n",
    "\n",
    "# timestamps = [re.search(ts_pattern, item).group(1) for item in sample]\n",
    "# timestamps"
   ]
  },
  {
   "cell_type": "code",
   "execution_count": 26,
   "id": "bb4bbec7-300a-4f1d-a51e-ba801887e8ee",
   "metadata": {},
   "outputs": [],
   "source": [
    "timestamp=[re.search(ts_pattern,item).group() for item in sample]"
   ]
  },
  {
   "cell_type": "code",
   "execution_count": 27,
   "id": "1c0cea3a-4cad-4250-988d-40c5bb7a25a0",
   "metadata": {},
   "outputs": [
    {
     "data": {
      "text/plain": [
       "['[01/Aug/1995:00:00:01 -0400]',\n",
       " '[01/Aug/1995:00:00:07 -0400]',\n",
       " '[01/Aug/1995:00:00:08 -0400]',\n",
       " '[01/Aug/1995:00:00:08 -0400]',\n",
       " '[01/Aug/1995:00:00:08 -0400]',\n",
       " '[01/Aug/1995:00:00:09 -0400]',\n",
       " '[01/Aug/1995:00:00:10 -0400]',\n",
       " '[01/Aug/1995:00:00:10 -0400]',\n",
       " '[01/Aug/1995:00:00:10 -0400]',\n",
       " '[01/Aug/1995:00:00:11 -0400]']"
      ]
     },
     "execution_count": 27,
     "metadata": {},
     "output_type": "execute_result"
    }
   ],
   "source": [
    "timestamp"
   ]
  },
  {
   "cell_type": "code",
   "execution_count": 28,
   "id": "eee50cfd-0f33-492e-956a-e301f6f50505",
   "metadata": {},
   "outputs": [
    {
     "data": {
      "text/plain": [
       "[('GET', '/shuttle/missions/sts-68/news/sts-68-mcc-05.txt', 'HTTP/1.0'),\n",
       " ('GET', '/', 'HTTP/1.0'),\n",
       " ('GET', '/images/ksclogo-medium.gif', 'HTTP/1.0'),\n",
       " ('GET', '/images/MOSAIC-logosmall.gif', 'HTTP/1.0'),\n",
       " ('GET', '/images/USA-logosmall.gif', 'HTTP/1.0'),\n",
       " ('GET', '/images/launch-logo.gif', 'HTTP/1.0'),\n",
       " ('GET', '/images/WORLD-logosmall.gif', 'HTTP/1.0'),\n",
       " ('GET', '/history/skylab/skylab.html', 'HTTP/1.0'),\n",
       " ('GET', '/images/launchmedium.gif', 'HTTP/1.0'),\n",
       " ('GET', '/history/skylab/skylab-small.gif', 'HTTP/1.0')]"
      ]
     },
     "execution_count": 28,
     "metadata": {},
     "output_type": "execute_result"
    }
   ],
   "source": [
    "# extracting Protocol(get,post,put etc..)\n",
    "\n",
    "method_uri_protocol_pattern = r'\\\"(\\S+)\\s(\\S+)\\s*(\\S*)\\\"'\n",
    "method_uri_protocol = [re.search(method_uri_protocol_pattern, item).groups()\n",
    "                       if re.search(method_uri_protocol_pattern, item)\n",
    "                       else \"no uri\"\n",
    "                       for item in sample]\n",
    "method_uri_protocol"
   ]
  },
  {
   "cell_type": "code",
   "execution_count": 30,
   "id": "4663cf7f-0213-4170-b80b-206f4f351e31",
   "metadata": {},
   "outputs": [
    {
     "data": {
      "text/plain": [
       "['200', '304', '304', '304', '304', '200', '304', '200', '200', '200']"
      ]
     },
     "execution_count": 30,
     "metadata": {},
     "output_type": "execute_result"
    }
   ],
   "source": [
    "# Extracting Status Code\n",
    "# 200 is success else every code is error i.e 404,403 etc\n",
    "status_pattern = r'\\s(\\d{3})\\s'\n",
    "status = [re.search(status_pattern, item).group(1) for item in sample]\n",
    "status"
   ]
  },
  {
   "cell_type": "code",
   "execution_count": 31,
   "id": "e1897dfb-96d2-4c1e-b2a4-ea2b61018864",
   "metadata": {},
   "outputs": [
    {
     "data": {
      "text/plain": [
       "['1839', '0', '0', '0', '0', '1713', '0', '1687', '11853', '9202']"
      ]
     },
     "execution_count": 31,
     "metadata": {},
     "output_type": "execute_result"
    }
   ],
   "source": [
    "# Extracting Content Size\n",
    "\n",
    "contentsize_pattern = r'\\s(\\d+)$'\n",
    "content_size = [re.search(contentsize_pattern, item).group(1) for item in sample]\n",
    "content_size"
   ]
  },
  {
   "cell_type": "code",
   "execution_count": 36,
   "id": "a76e69fd-6a53-45c8-8ea8-0a0782a9ea52",
   "metadata": {},
   "outputs": [
    {
     "name": "stdout",
     "output_type": "stream",
     "text": [
      "+--------------------+\n",
      "|                Host|\n",
      "+--------------------+\n",
      "|   in24.inetnebr.com|\n",
      "|     uplherc.upl.com|\n",
      "|     uplherc.upl.com|\n",
      "|     uplherc.upl.com|\n",
      "|     uplherc.upl.com|\n",
      "|ix-esc-ca2-07.ix....|\n",
      "|     uplherc.upl.com|\n",
      "|slppp6.intermind.net|\n",
      "|piweba4y.prodigy.com|\n",
      "|slppp6.intermind.net|\n",
      "|slppp6.intermind.net|\n",
      "|ix-esc-ca2-07.ix....|\n",
      "|slppp6.intermind.net|\n",
      "|     uplherc.upl.com|\n",
      "|        133.43.96.45|\n",
      "|kgtyk4.kj.yamagat...|\n",
      "|kgtyk4.kj.yamagat...|\n",
      "|     d0ucr6.fnal.gov|\n",
      "|ix-esc-ca2-07.ix....|\n",
      "|     d0ucr6.fnal.gov|\n",
      "+--------------------+\n",
      "only showing top 20 rows\n",
      "\n"
     ]
    }
   ],
   "source": [
    "from pyspark.sql.functions import regexp_extract, col\n",
    "\n",
    "df.select(regexp_extract(\"value\",host_pattern,1).alias(\"Host\")).show()"
   ]
  },
  {
   "cell_type": "code",
   "execution_count": 42,
   "id": "25463900-5eae-465b-837a-1c95631aad45",
   "metadata": {},
   "outputs": [
    {
     "name": "stdout",
     "output_type": "stream",
     "text": [
      "+--------------------+--------------------+------+------------+\n",
      "|                Host|          Time Stamp|Status|Content Size|\n",
      "+--------------------+--------------------+------+------------+\n",
      "|   in24.inetnebr.com|01/Aug/1995:00:00...|   200|        1839|\n",
      "|     uplherc.upl.com|01/Aug/1995:00:00...|   304|           0|\n",
      "|     uplherc.upl.com|01/Aug/1995:00:00...|   304|           0|\n",
      "|     uplherc.upl.com|01/Aug/1995:00:00...|   304|           0|\n",
      "|     uplherc.upl.com|01/Aug/1995:00:00...|   304|           0|\n",
      "|ix-esc-ca2-07.ix....|01/Aug/1995:00:00...|   200|        1713|\n",
      "|     uplherc.upl.com|01/Aug/1995:00:00...|   304|           0|\n",
      "|slppp6.intermind.net|01/Aug/1995:00:00...|   200|        1687|\n",
      "|piweba4y.prodigy.com|01/Aug/1995:00:00...|   200|       11853|\n",
      "|slppp6.intermind.net|01/Aug/1995:00:00...|   200|        9202|\n",
      "+--------------------+--------------------+------+------------+\n",
      "only showing top 10 rows\n",
      "\n"
     ]
    }
   ],
   "source": [
    "# Extracting All the Four Patterns\n",
    "\n",
    "\n",
    "df.select(regexp_extract(\"value\",host_pattern,1).alias(\"Host\"),\n",
    "         regexp_extract(\"value\",ts_pattern,1).alias(\"Time Stamp\"),\n",
    "          # regexp_extract(\"value\",url_pattern,1).alias(\"Status\"),\n",
    "         regexp_extract(\"value\",status_pattern,1).alias(\"Status\"),\n",
    "          \n",
    "         regexp_extract(\"value\",contentsize_pattern,1).alias(\"Content Size\"),\n",
    "         ).show(10)"
   ]
  },
  {
   "cell_type": "code",
   "execution_count": 46,
   "id": "1a49676c-cff1-4468-bff6-16d14cd35adc",
   "metadata": {},
   "outputs": [],
   "source": [
    "clean_df= df.select(regexp_extract(\"value\",host_pattern,1).alias(\"Host\"),\n",
    "         regexp_extract(\"value\",ts_pattern,1).alias(\"Time Stamp\"),\n",
    "          # regexp_extract(\"value\",url_pattern,1).alias(\"Status\"),\n",
    "         regexp_extract(\"value\",status_pattern,1).alias(\"Status\"),\n",
    "          \n",
    "         regexp_extract(\"value\",contentsize_pattern,1).alias(\"Content Size\"),\n",
    "         )"
   ]
  },
  {
   "cell_type": "code",
   "execution_count": 47,
   "id": "47813d49-9b4b-4872-9fec-bffc7eb82489",
   "metadata": {},
   "outputs": [],
   "source": [
    "# Same code without Spark\n",
    "\n",
    "clean_df.createTempView(\"Temp_Log_Data\")"
   ]
  },
  {
   "cell_type": "code",
   "execution_count": null,
   "id": "c21f0e40-bb24-4aef-822f-653a407f9619",
   "metadata": {},
   "outputs": [],
   "source": [
    "spark.sql(\" Select Status, COUNT(*) AS Number_of\")"
   ]
  }
 ],
 "metadata": {
  "kernelspec": {
   "display_name": "Python 3 (ipykernel)",
   "language": "python",
   "name": "python3"
  },
  "language_info": {
   "codemirror_mode": {
    "name": "ipython",
    "version": 3
   },
   "file_extension": ".py",
   "mimetype": "text/x-python",
   "name": "python",
   "nbconvert_exporter": "python",
   "pygments_lexer": "ipython3",
   "version": "3.12.4"
  }
 },
 "nbformat": 4,
 "nbformat_minor": 5
}
